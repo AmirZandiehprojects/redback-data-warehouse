{
 "cells": [
  {
   "cell_type": "code",
   "execution_count": 2,
   "metadata": {},
   "outputs": [
    {
     "ename": "ModuleNotFoundError",
     "evalue": "No module named 'requests'",
     "output_type": "error",
     "traceback": [
      "\u001b[1;31m---------------------------------------------------------------------------\u001b[0m",
      "\u001b[1;31mModuleNotFoundError\u001b[0m                       Traceback (most recent call last)",
      "Cell \u001b[1;32mIn[2], line 1\u001b[0m\n\u001b[1;32m----> 1\u001b[0m \u001b[38;5;28;01mimport\u001b[39;00m \u001b[38;5;21;01mrequests\u001b[39;00m\n\u001b[0;32m      3\u001b[0m \u001b[38;5;66;03m# URL of the API\u001b[39;00m\n\u001b[0;32m      4\u001b[0m api_url \u001b[38;5;241m=\u001b[39m \u001b[38;5;124m\"\u001b[39m\u001b[38;5;124mhttp://127.0.0.1:5000\u001b[39m\u001b[38;5;124m\"\u001b[39m\n",
      "\u001b[1;31mModuleNotFoundError\u001b[0m: No module named 'requests'"
     ]
    }
   ],
   "source": [
    "import requests\n",
    "\n",
    "# URL of the API\n",
    "api_url = \"http://127.0.0.1:5000\"\n"
   ]
  },
  {
   "cell_type": "code",
   "execution_count": 6,
   "metadata": {},
   "outputs": [
    {
     "name": "stdout",
     "output_type": "stream",
     "text": [
      "Collecting Minio\n",
      "  Using cached minio-7.2.7-py3-none-any.whl.metadata (6.4 kB)\n",
      "Requirement already satisfied: certifi in .\\.venv\\lib\\site-packages (from Minio) (2024.7.4)\n",
      "Requirement already satisfied: urllib3 in .\\.venv\\lib\\site-packages (from Minio) (2.2.2)\n",
      "Collecting argon2-cffi (from Minio)\n",
      "  Using cached argon2_cffi-23.1.0-py3-none-any.whl.metadata (5.2 kB)\n",
      "Collecting pycryptodome (from Minio)\n",
      "  Using cached pycryptodome-3.20.0-cp35-abi3-win_amd64.whl.metadata (3.4 kB)\n",
      "Requirement already satisfied: typing-extensions in .\\.venv\\lib\\site-packages (from Minio) (4.12.2)\n",
      "Collecting argon2-cffi-bindings (from argon2-cffi->Minio)\n",
      "  Using cached argon2_cffi_bindings-21.2.0-cp36-abi3-win_amd64.whl.metadata (6.7 kB)\n",
      "Collecting cffi>=1.0.1 (from argon2-cffi-bindings->argon2-cffi->Minio)\n",
      "  Using cached cffi-1.16.0-cp312-cp312-win_amd64.whl.metadata (1.5 kB)\n",
      "Collecting pycparser (from cffi>=1.0.1->argon2-cffi-bindings->argon2-cffi->Minio)\n",
      "  Using cached pycparser-2.22-py3-none-any.whl.metadata (943 bytes)\n",
      "Using cached minio-7.2.7-py3-none-any.whl (93 kB)\n",
      "Using cached argon2_cffi-23.1.0-py3-none-any.whl (15 kB)\n",
      "Using cached pycryptodome-3.20.0-cp35-abi3-win_amd64.whl (1.8 MB)\n",
      "Using cached argon2_cffi_bindings-21.2.0-cp36-abi3-win_amd64.whl (30 kB)\n",
      "Using cached cffi-1.16.0-cp312-cp312-win_amd64.whl (181 kB)\n",
      "Using cached pycparser-2.22-py3-none-any.whl (117 kB)\n",
      "Installing collected packages: pycryptodome, pycparser, cffi, argon2-cffi-bindings, argon2-cffi, Minio\n",
      "Successfully installed Minio-7.2.7 argon2-cffi-23.1.0 argon2-cffi-bindings-21.2.0 cffi-1.16.0 pycparser-2.22 pycryptodome-3.20.0\n",
      "Note: you may need to restart the kernel to use updated packages.\n"
     ]
    }
   ],
   "source": [
    "pip install Minio"
   ]
  },
  {
   "cell_type": "code",
   "execution_count": 7,
   "metadata": {},
   "outputs": [
    {
     "name": "stdout",
     "output_type": "stream",
     "text": [
      "Activities_Ath_215078188.csv\n",
      "testingdw.json\n"
     ]
    }
   ],
   "source": [
    "from minio import Minio\n",
    "from minio.error import S3Error\n",
    "\n",
    "try:\n",
    "    minio_client = Minio(\n",
    "        \"10.137.0.149:9000\",\n",
    "        access_key=\"oMRermz5wLf474preMdK\",\n",
    "        secret_key=\"kZ0MyCwVdTu8r2O9SV7wbyZ3tGjJEd0jjDeO5rbn\",\n",
    "        secure=False\n",
    "    )\n",
    "    objects = minio_client.list_objects(\"file-upload-service-sl\")\n",
    "    for obj in objects:\n",
    "        print(obj.object_name)\n",
    "except S3Error as err:\n",
    "    print(f\"MinIO Error: {err}\")"
   ]
  },
  {
   "cell_type": "code",
   "execution_count": 4,
   "metadata": {},
   "outputs": [
    {
     "name": "stdout",
     "output_type": "stream",
     "text": [
      "Failed to list files: {'error': 'S3 operation failed; code: SignatureDoesNotMatch, message: The request signature we calculated does not match the signature you provided. Check your key and signing method., resource: /file-upload-service-sl, request_id: 17E8D324B9C3BF43, host_id: dd9025bab4ad464b049177c95eb6ebf374d3b3fd1af9251148b658df7ac2e3e8, bucket_name: file-upload-service-sl'}\n"
     ]
    }
   ],
   "source": [
    "# List files\n",
    "response = requests.get(f\"{api_url}/list-files\")\n",
    "if response.status_code == 200:\n",
    "    files = response.json()\n",
    "    print(\"Files:\", files)\n",
    "else:\n",
    "    print(\"Failed to list files:\", response.json())\n"
   ]
  },
  {
   "cell_type": "code",
   "execution_count": 2,
   "metadata": {},
   "outputs": [
    {
     "name": "stdout",
     "output_type": "stream",
     "text": [
      "Failed to download file: {'error': 'S3 operation failed; code: SignatureDoesNotMatch, message: The request signature we calculated does not match the signature you provided. Check your key and signing method., resource: /file-upload-service-sl, request_id: 17E8D30AFCFCC3E4, host_id: dd9025bab4ad464b049177c95eb6ebf374d3b3fd1af9251148b658df7ac2e3e8, bucket_name: file-upload-service-sl'}\n"
     ]
    }
   ],
   "source": [
    "# Download a file\n",
    "filename = \"Activities_Ath_215078188.csv\"  # Replace with the actual file name\n",
    "response = requests.get(f\"{api_url}/download-file/{filename}\")\n",
    "if response.status_code == 200:\n",
    "    with open(filename, 'wb') as f:\n",
    "        f.write(response.content)\n",
    "    print(f\"Downloaded {filename} successfully.\")\n",
    "else:\n",
    "    print(\"Failed to download file:\", response.json())\n"
   ]
  }
 ],
 "metadata": {
  "kernelspec": {
   "display_name": ".venv",
   "language": "python",
   "name": "python3"
  },
  "language_info": {
   "codemirror_mode": {
    "name": "ipython",
    "version": 3
   },
   "file_extension": ".py",
   "mimetype": "text/x-python",
   "name": "python",
   "nbconvert_exporter": "python",
   "pygments_lexer": "ipython3",
   "version": "3.12.4"
  }
 },
 "nbformat": 4,
 "nbformat_minor": 2
}
